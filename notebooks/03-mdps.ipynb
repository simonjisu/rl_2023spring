{
 "cells": [
  {
   "cell_type": "code",
   "execution_count": 1,
   "metadata": {},
   "outputs": [],
   "source": [
    "#######################################################################\n",
    "# Copyright (C)                                                       #\n",
    "# 2016-2018 Shangtong Zhang(zhangshangtong.cpp@gmail.com)             #\n",
    "# 2016 Kenta Shimada(hyperkentakun@gmail.com)                         #\n",
    "# Permission given to modify the code as long as you keep this        #\n",
    "# declaration at the top                                              #\n",
    "#######################################################################\n",
    "\n",
    "import matplotlib\n",
    "import matplotlib.pyplot as plt\n",
    "import numpy as np\n",
    "from matplotlib.table import Table\n",
    "\n",
    "# matplotlib.use('Agg')\n",
    "\n",
    "WORLD_SIZE = 5\n",
    "A_POS = [0, 1]\n",
    "A_PRIME_POS = [4, 1]\n",
    "B_POS = [0, 3]\n",
    "B_PRIME_POS = [2, 3]\n",
    "DISCOUNT = 0.9\n",
    "\n",
    "# left, up, right, down\n",
    "ACTIONS = [np.array([0, -1]),\n",
    "           np.array([-1, 0]),\n",
    "           np.array([0, 1]),\n",
    "           np.array([1, 0])]\n",
    "ACTIONS_FIGS=[ '←', '↑', '→', '↓']\n",
    "\n",
    "ACTION_PROB = 0.25\n",
    "\n",
    "\n",
    "def step(state, action):\n",
    "    if state == A_POS:\n",
    "        return A_PRIME_POS, 10\n",
    "    if state == B_POS:\n",
    "        return B_PRIME_POS, 5\n",
    "\n",
    "    next_state = (np.array(state) + action).tolist()\n",
    "    x, y = next_state\n",
    "    if x < 0 or x >= WORLD_SIZE or y < 0 or y >= WORLD_SIZE:\n",
    "        reward = -1.0\n",
    "        next_state = state\n",
    "    else:\n",
    "        reward = 0\n",
    "    return next_state, reward\n",
    "\n",
    "\n",
    "def draw_image(image):\n",
    "    fig, ax = plt.subplots(1, 1, figsize=(5, 5))\n",
    "    ax.set_axis_off()\n",
    "    tb = Table(ax, bbox=[0, 0, 1, 1])\n",
    "\n",
    "    nrows, ncols = image.shape\n",
    "    width, height = 1.0 / ncols, 1.0 / nrows\n",
    "\n",
    "    # Add cells\n",
    "    for (i, j), val in np.ndenumerate(image):\n",
    "\n",
    "        # add state labels\n",
    "        if [i, j] == A_POS:\n",
    "            val = str(val) + \" (A)\"\n",
    "        if [i, j] == A_PRIME_POS:\n",
    "            val = str(val) + \" (A')\"\n",
    "        if [i, j] == B_POS:\n",
    "            val = str(val) + \" (B)\"\n",
    "        if [i, j] == B_PRIME_POS:\n",
    "            val = str(val) + \" (B')\"\n",
    "        \n",
    "        tb.add_cell(i, j, width, height, text=val,\n",
    "                    loc='center', facecolor='white')\n",
    "        \n",
    "\n",
    "    # Row and column labels...\n",
    "    for i in range(len(image)):\n",
    "        tb.add_cell(i, -1, width, height, text=i+1, loc='right',\n",
    "                    edgecolor='none', facecolor='none')\n",
    "        tb.add_cell(-1, i, width, height/2, text=i+1, loc='center',\n",
    "                    edgecolor='none', facecolor='none')\n",
    "\n",
    "    ax.add_table(tb)\n",
    "\n",
    "    return fig\n",
    "\n",
    "def draw_policy(optimal_values):\n",
    "    fig, ax = plt.subplots(1, 1, figsize=(5, 5))\n",
    "    ax.set_axis_off()\n",
    "    tb = Table(ax, bbox=[0, 0, 1, 1])\n",
    "\n",
    "    nrows, ncols = optimal_values.shape\n",
    "    width, height = 1.0 / ncols, 1.0 / nrows\n",
    "\n",
    "    # Add cells\n",
    "    for (i, j), val in np.ndenumerate(optimal_values):\n",
    "        next_vals=[]\n",
    "        for action in ACTIONS:\n",
    "            next_state, _ = step([i, j], action)\n",
    "            next_vals.append(optimal_values[next_state[0],next_state[1]])\n",
    "\n",
    "        best_actions=np.where(next_vals == np.max(next_vals))[0]\n",
    "        val=''\n",
    "        for ba in best_actions:\n",
    "            val+=ACTIONS_FIGS[ba]\n",
    "        \n",
    "        # add state labels\n",
    "        if [i, j] == A_POS:\n",
    "            val = str(val) + \" (A)\"\n",
    "        if [i, j] == A_PRIME_POS:\n",
    "            val = str(val) + \" (A')\"\n",
    "        if [i, j] == B_POS:\n",
    "            val = str(val) + \" (B)\"\n",
    "        if [i, j] == B_PRIME_POS:\n",
    "            val = str(val) + \" (B')\"\n",
    "        \n",
    "        tb.add_cell(i, j, width, height, text=val,\n",
    "                loc='center', facecolor='white')\n",
    "\n",
    "    # Row and column labels...\n",
    "    for i in range(len(optimal_values)):\n",
    "        tb.add_cell(i, -1, width, height, text=i+1, loc='right',\n",
    "                    edgecolor='none', facecolor='none')\n",
    "        tb.add_cell(-1, i, width, height/2, text=i+1, loc='center',\n",
    "                   edgecolor='none', facecolor='none')\n",
    "\n",
    "    ax.add_table(tb)\n",
    "    \n",
    "    return fig"
   ]
  },
  {
   "cell_type": "code",
   "execution_count": 2,
   "metadata": {},
   "outputs": [],
   "source": [
    "value = np.zeros((WORLD_SIZE, WORLD_SIZE))\n",
    "while True:\n",
    "    # keep iteration until convergence\n",
    "    new_value = np.zeros_like(value)\n",
    "    for i in range(WORLD_SIZE):\n",
    "        for j in range(WORLD_SIZE):\n",
    "            for action in ACTIONS:\n",
    "                (next_i, next_j), reward = step([i, j], action)\n",
    "                # bellman equation\n",
    "                new_value[i, j] += ACTION_PROB * (reward + DISCOUNT * value[next_i, next_j])\n",
    "    if np.sum(np.abs(value - new_value)) < 1e-4:\n",
    "        \n",
    "        # plt.savefig('../images/figure_3_2.png')\n",
    "        # plt.close()\n",
    "        break\n",
    "    value = new_value"
   ]
  },
  {
   "cell_type": "code",
   "execution_count": 17,
   "metadata": {},
   "outputs": [],
   "source": [
    "fig = draw_image(np.round(new_value, decimals=2))"
   ]
  },
  {
   "cell_type": "code",
   "execution_count": 3,
   "metadata": {},
   "outputs": [
    {
     "data": {
      "text/plain": [
       "<matplotlib.table.Table at 0x7f8483f1bc40>"
      ]
     },
     "execution_count": 3,
     "metadata": {},
     "output_type": "execute_result"
    },
    {
     "data": {
      "image/png": "[encoded data removed]",
      "text/plain": [
       "<Figure size 500x500 with 1 Axes>"
      ]
     },
     "metadata": {},
     "output_type": "display_data"
    }
   ],
   "source": [
    "image = np.round(new_value, decimals=2)\n",
    "fig, ax = plt.subplots(1, 1, figsize=(5, 5))\n",
    "ax.set_axis_off()\n",
    "tb = Table(ax, bbox=[0, 0, 1, 1])\n",
    "\n",
    "nrows, ncols = image.shape\n",
    "width, height = 1.0 / ncols, 1.0 / nrows\n",
    "\n",
    "# Add cells\n",
    "for (i, j), val in np.ndenumerate(image):\n",
    "\n",
    "    # add state labels\n",
    "    if [i, j] == A_POS:\n",
    "        val = str(val) + \" (A)\"\n",
    "    if [i, j] == A_PRIME_POS:\n",
    "        val = str(val) + \" (A')\"\n",
    "    if [i, j] == B_POS:\n",
    "        val = str(val) + \" (B)\"\n",
    "    if [i, j] == B_PRIME_POS:\n",
    "        val = str(val) + \" (B')\"\n",
    "    \n",
    "    tb.add_cell(i, j, width, height, text=val,\n",
    "                loc='center', facecolor='white')\n",
    "    \n",
    "\n",
    "# Row and column labels...\n",
    "for i in range(len(image)):\n",
    "    tb.add_cell(i, -1, width, height, text=i+1, loc='right',\n",
    "                edgecolor='none', facecolor='none')\n",
    "    tb.add_cell(-1, i, width, height/2, text=i+1, loc='center',\n",
    "                edgecolor='none', facecolor='none')\n",
    "\n",
    "ax.add_table(tb)\n"
   ]
  },
  {
   "cell_type": "code",
   "execution_count": 4,
   "metadata": {},
   "outputs": [
    {
     "data": {
      "text/plain": [
       "-1.75"
      ]
     },
     "execution_count": 4,
     "metadata": {},
     "output_type": "execute_result"
    }
   ],
   "source": [
    "(1/4 * (-1 + np.array([0, -1, -1, -1]))).sum()"
   ]
  }
 ],
 "metadata": {
  "kernelspec": {
   "display_name": "rl_2023spring-FuEMe-5O",
   "language": "python",
   "name": "python3"
  },
  "language_info": {
   "codemirror_mode": {
    "name": "ipython",
    "version": 3
   },
   "file_extension": ".py",
   "mimetype": "text/x-python",
   "name": "python",
   "nbconvert_exporter": "python",
   "pygments_lexer": "ipython3",
   "version": "3.10.8"
  },
  "orig_nbformat": 4
 },
 "nbformat": 4,
 "nbformat_minor": 2
}
