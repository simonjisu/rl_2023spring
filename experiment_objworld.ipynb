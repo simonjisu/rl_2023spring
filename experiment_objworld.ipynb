{
 "cells": [
  {
   "cell_type": "code",
   "execution_count": null,
   "metadata": {},
   "outputs": [],
   "source": [
    "# %load_ext autoreload\n",
    "%reload_ext autoreload\n",
    "%autoreload 2\n",
    "import numpy as np\n",
    "\n",
    "from src.GridWorldMDP.objectworld_utils import draw_path, generate_demonstrations, init_object_world\n",
    "from src.deepmaxent_irl_objectworld import run_deepmaxent_irl\n",
    "from src.maxent_irl_objectworld import run_maxent_irl\n",
    "from src.img_utils import Visualizer, get_evd, draw_evd\n",
    "from src.argument_parser import get_parser, parse_args_str\n",
    "\n",
    "PARSER = get_parser()"
   ]
  },
  {
   "attachments": {},
   "cell_type": "markdown",
   "metadata": {},
   "source": [
    "## Maxent"
   ]
  },
  {
   "cell_type": "code",
   "execution_count": null,
   "metadata": {},
   "outputs": [],
   "source": [
    "np.random.seed(1)\n",
    "BASIC_ARGS = \"\"\"\n",
    "--exp_name test\n",
    "--height 6\n",
    "--width 6\n",
    "\"\"\"\n",
    "args = parse_args_str(PARSER, BASIC_ARGS)\n",
    "print(args.exp_name)\n",
    "\n",
    "init_start_pos = np.random.randint(0, args.height, size=(args.n_query, 2)).tolist()\n",
    "print('start positions: ', init_start_pos)"
   ]
  },
  {
   "cell_type": "code",
   "execution_count": null,
   "metadata": {},
   "outputs": [],
   "source": [
    "MAXENT_ARGS = \"\"\"\n",
    "--exp_name maxent_rand\n",
    "--grid_size 6\n",
    "--n_objects 3\n",
    "--n_colours 3\n",
    "--gamma 0.8\n",
    "--act_random 0.3\n",
    "--n_trajs 5\n",
    "--l_traj 6\n",
    "--learning_rate 0.1\n",
    "--n_iters 10\n",
    "--alpha 0.1\n",
    "--n_query 1\n",
    "--r_max 1\n",
    "--error 0.01\n",
    "--grad_clip 0.5\n",
    "--weight_decay 0.5\n",
    "--active\n",
    "\"\"\"\n",
    "args = parse_args_str(PARSER, MAXENT_ARGS)\n",
    "print(args.exp_name)\n",
    "\n",
    "history_maxent_active = run_maxent_irl(args, init_start_pos=init_start_pos)"
   ]
  },
  {
   "cell_type": "code",
   "execution_count": null,
   "metadata": {},
   "outputs": [],
   "source": [
    "visualizer = Visualizer(history_maxent_active, file_path=None)\n",
    "search_idx = 9\n",
    "visualizer.draw_value_maps(search_idx)\n",
    "visualizer.draw_acq_maps(search_idx)"
   ]
  },
  {
   "attachments": {},
   "cell_type": "markdown",
   "metadata": {},
   "source": [
    "---"
   ]
  },
  {
   "attachments": {},
   "cell_type": "markdown",
   "metadata": {},
   "source": [
    "## Deep Maxent"
   ]
  },
  {
   "cell_type": "code",
   "execution_count": null,
   "metadata": {},
   "outputs": [],
   "source": [
    "init_start_pos"
   ]
  },
  {
   "cell_type": "code",
   "execution_count": null,
   "metadata": {},
   "outputs": [],
   "source": [
    "DEEP_MAXENT_ACTIVE_ARGS = \"\"\"\n",
    "--exp_name deepmaxent_active\n",
    "--grid_size 6\n",
    "--n_objects 3\n",
    "--n_coulours 3\n",
    "--gamma 0.8\n",
    "--act_random 0.3\n",
    "--n_trajs 10\n",
    "--l_traj 6\n",
    "--learning_rate 0.01\n",
    "--n_iters 20\n",
    "--alpha 0.5\n",
    "--n_query 1\n",
    "--r_max 1\n",
    "--error 0.01\n",
    "--grad_clip 50.0\n",
    "--weight_decay 10.0\n",
    "--hiddens 512 256\n",
    "--device cuda\n",
    "--active\n",
    "\"\"\"\n",
    "\n",
    "# becareful of learning rate will cause nan\n",
    "args = parse_args_str(PARSER, DEEP_MAXENT_ACTIVE_ARGS)\n",
    "print(args.exp_name)\n",
    "history_deepmaxent_active = run_deepmaxent_irl(args, init_start_pos=init_start_pos)"
   ]
  },
  {
   "cell_type": "code",
   "execution_count": null,
   "metadata": {},
   "outputs": [],
   "source": [
    "history_deepmaxent_active[9]['policy'].argmax(axis=1).reshape(6, 6, order='F')"
   ]
  },
  {
   "cell_type": "code",
   "execution_count": null,
   "metadata": {},
   "outputs": [],
   "source": [
    "visualizer = Visualizer(history_deepmaxent_active, file_path=None)\n",
    "search_idx = 1\n",
    "visualizer.draw_value_maps(search_idx)\n",
    "visualizer.draw_acq_maps(search_idx)"
   ]
  },
  {
   "cell_type": "code",
   "execution_count": null,
   "metadata": {},
   "outputs": [],
   "source": []
  }
 ],
 "metadata": {
  "kernelspec": {
   "display_name": "rl_2023spring-9SpTBrNN",
   "language": "python",
   "name": "python3"
  },
  "language_info": {
   "codemirror_mode": {
    "name": "ipython",
    "version": 3
   },
   "file_extension": ".py",
   "mimetype": "text/x-python",
   "name": "python",
   "nbconvert_exporter": "python",
   "pygments_lexer": "ipython3",
   "version": "3.9.16"
  },
  "orig_nbformat": 4
 },
 "nbformat": 4,
 "nbformat_minor": 2
}
